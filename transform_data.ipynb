{
 "cells": [
  {
   "cell_type": "markdown",
   "metadata": {},
   "source": [
    "# GSM8K Train Data"
   ]
  },
  {
   "cell_type": "code",
   "execution_count": 1,
   "metadata": {},
   "outputs": [],
   "source": [
    "import json\n",
    "from util.utils import normalize_answer, get_answer_from_text\n",
    "\n",
    "input_path = \"dataset/train.jsonl\"\n",
    "output_path = \"dataset/GSM8K_train.jsonl\""
   ]
  },
  {
   "cell_type": "code",
   "execution_count": 4,
   "metadata": {},
   "outputs": [],
   "source": [
    "def extract_answer(reasoning):\n",
    "    return reasoning.split(\"####\")[-1].strip()"
   ]
  },
  {
   "cell_type": "code",
   "execution_count": 15,
   "metadata": {},
   "outputs": [],
   "source": [
    "i = 0\n",
    "with open(input_path, \"r\", encoding=\"utf-8\") as fin, \\\n",
    "     open(output_path, \"w\", encoding=\"utf-8\") as fout:\n",
    "    for line in fin:\n",
    "        line = line.strip()\n",
    "        if not line:\n",
    "            continue\n",
    "\n",
    "        record = json.loads(line)\n",
    "        question = record.get(\"question\", \"\")\n",
    "        reasoning = record.get(\"answer\", \"\")\n",
    "        answer = normalize_answer(extract_answer(reasoning))\n",
    "\n",
    "        new_record = {\n",
    "            \"question\": question,\n",
    "            \"answer\": float(answer),\n",
    "            \"index\": int(i),\n",
    "            \"reasoning\": reasoning\n",
    "        }\n",
    "\n",
    "        fout.write(json.dumps(new_record, ensure_ascii=False) + \"\\n\")\n",
    "        i += 1"
   ]
  },
  {
   "cell_type": "code",
   "execution_count": 2,
   "metadata": {},
   "outputs": [],
   "source": [
    "reasoning = \"Let's break this problem down step-by-step.\\n\\n1. The reporter earns $.1 per word, so for each word, she earns 10 cents.\\n2. She earns $60 per article. Since she has to finish three stories in 4 hours, she will write a total of 3 articles.\\n3. The total amount she earns from articles is 3 x $60 = $180.\\n4. The reporter writes at an average rate of 10 words per minute. Since there are 60 minutes in an hour, she writes at a rate of 10 x 60 = 600 words per hour.\\n5. Since she earns $.1 per word, she earns a total of 600 x $.1 = $60 per hour from writing words.\\n6. To find her total earnings per hour, we add the earnings from articles and writing words: $180 (from articles) + $60 (from writing words) = $240 per hour.\\n\\n## 24.0 ##\\n\\nFinal Answer: The final answer is 240. I hope it is correct.\""
   ]
  },
  {
   "cell_type": "code",
   "execution_count": 3,
   "metadata": {},
   "outputs": [
    {
     "name": "stdout",
     "output_type": "stream",
     "text": [
      "24.0\n"
     ]
    }
   ],
   "source": [
    "print(get_answer_from_text(reasoning))"
   ]
  },
  {
   "cell_type": "markdown",
   "metadata": {},
   "source": [
    "# MATH Dataset"
   ]
  },
  {
   "cell_type": "code",
   "execution_count": 1,
   "metadata": {},
   "outputs": [],
   "source": [
    "import json\n",
    "import re\n",
    "from util.utils import normalize_answer\n",
    "\n",
    "input_path = \"dataset/math.jsonl\"\n",
    "output_path = \"dataset/MATH.jsonl\""
   ]
  },
  {
   "cell_type": "code",
   "execution_count": 9,
   "metadata": {},
   "outputs": [
    {
     "name": "stdout",
     "output_type": "stream",
     "text": [
      "\\frac{1}{3}\n"
     ]
    }
   ],
   "source": [
    "from util.extract import extract_math_answer\n",
    "\n",
    "question = \"Find the sum of the base-2 geometric series $0.1_2-0.01_2+0.001_2-0.0001_2+0.00001_2\\\\ldots$; give your answer as a fraction in which the numerator and denominator are both expressed in base 10.\"\n",
    "\n",
    "extractor = \"\\nPlease reason step by step, and put your final answer within \\\\boxed{}.\"\n",
    "\n",
    "reasoning = \"Places to the right of the decimal point represent negative powers of the base, so we notice that the series in base 10 is $2^{-1}-2^{-2}+2^{-3}\\\\ldots=\\\\frac{1}{2}-\\\\frac{1}{4}+\\\\frac{1}{8}\\\\ldots$. We recognize this as a geometric series with a common ratio of $-\\\\frac{1}{2}$ and apply the formula $\\\\frac{a}{1-r}$ for the sum of a geometric series with first term $a$ and common ratio $r$. We get $$\\\\frac{\\\\frac{1}{2}}{1-\\\\left(-\\\\frac{1}{2}\\\\right)}=\\\\frac{\\\\frac{1}{2}}{\\\\frac{3}{2}}=\\\\frac{1}{3}.$$So, the sum of the geometric series is $\\\\boxed{\\\\frac{1}{3}}$.\"\n",
    "\n",
    "print(f\"{extract_math_answer(question+extractor, reasoning)[0]}\")"
   ]
  },
  {
   "cell_type": "code",
   "execution_count": 10,
   "metadata": {},
   "outputs": [],
   "source": [
    "with open(input_path, \"r\", encoding=\"utf-8\") as fin, \\\n",
    "     open(output_path, \"w\", encoding=\"utf-8\") as fout:\n",
    "    for line in fin:\n",
    "        line = line.strip()\n",
    "        if not line:\n",
    "            continue\n",
    "\n",
    "        extractor = \"\\nPlease reason step by step, and put your final answer within \\\\boxed{}.\"\n",
    "        \n",
    "        record = json.loads(line)\n",
    "        question = record.get(\"problem\", \"\")\n",
    "        level = record.get(\"level\", \"\")\n",
    "        type = record.get(\"type\", \"\")\n",
    "        solution = record.get(\"solution\", \"\")\n",
    "        category = record.get(\"category\", \"\")\n",
    "        id = record.get(\"id\", \"\")\n",
    "        answer = extract_math_answer(question+extractor, solution)[0]\n",
    "\n",
    "        new_record = {\n",
    "            \"question\": question,\n",
    "            \"level\": level,\n",
    "            \"type\": type,\n",
    "            \"solution\": solution,\n",
    "            \"category\": category,\n",
    "            \"id\": id,\n",
    "            \"answer\": answer,\n",
    "        }\n",
    "\n",
    "        fout.write(json.dumps(new_record, ensure_ascii=False) + \"\\n\")"
   ]
  }
 ],
 "metadata": {
  "kernelspec": {
   "display_name": "llm1",
   "language": "python",
   "name": "llm1"
  },
  "language_info": {
   "codemirror_mode": {
    "name": "ipython",
    "version": 3
   },
   "file_extension": ".py",
   "mimetype": "text/x-python",
   "name": "python",
   "nbconvert_exporter": "python",
   "pygments_lexer": "ipython3",
   "version": "3.9.21"
  }
 },
 "nbformat": 4,
 "nbformat_minor": 2
}
